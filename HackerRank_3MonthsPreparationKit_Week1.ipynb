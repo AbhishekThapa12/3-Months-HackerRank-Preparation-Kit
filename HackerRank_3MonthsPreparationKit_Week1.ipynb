{
  "nbformat": 4,
  "nbformat_minor": 0,
  "metadata": {
    "colab": {
      "name": "HackerRank-3MonthsPreparationKit-Week1.ipynb",
      "provenance": [],
      "collapsed_sections": []
    },
    "kernelspec": {
      "name": "python3",
      "display_name": "Python 3"
    },
    "language_info": {
      "name": "python"
    }
  },
  "cells": [
    {
      "cell_type": "markdown",
      "source": [
        "**<h3>WEEK 1 CODING QUESTIONS : (IN PYTHON)**"
      ],
      "metadata": {
        "id": "L_OUeRA1JZci"
      }
    },
    {
      "cell_type": "markdown",
      "source": [
        "**<h2> Q1. Plus Minus**"
      ],
      "metadata": {
        "id": "E86A7CBtXied"
      }
    },
    {
      "cell_type": "markdown",
      "source": [
        "**Problem :** \n",
        "\n",
        "\n",
        "**Given an array of integers, calculate the ratios of its elements that are positive, negative, and zero. Print the decimal value of each fraction on a new line with 6 places after the decimal.**\n",
        "\n",
        "**Note: This challenge introduces precision problems. The test cases are scaled to six decimal places, though answers with absolute error of up to 10^-4  are acceptable.**\n",
        "\n",
        "**[Example] :**\n",
        "\n",
        "arr = [1,1,0,-1,-1]\n",
        "\n",
        "There are n=5 elements, two positive, two negative and one zero. Their ratios are 2/5 = 0.400000, 2/5 = 0.400000 \n",
        " and 1/5 = 0.200000. \n",
        "\n",
        "Results are printed as:\n",
        "\n",
        "![image.png](data:image/png;base64,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)\n",
        "\n",
        "\n",
        "**Function Description**\n",
        "\n",
        "*Complete the plusMinus function in the editor below.*\n",
        "\n",
        "*plusMinus has the following parameter(s):*\n",
        "\n",
        "*int arr[n]: an array of integers*\n",
        "\n",
        "**Print**\n",
        "\n",
        "Print the ratios of positive, negative and zero values in the array. Each value should be printed on a separate line with  digits after the decimal. The function should not return a value.\n",
        "\n",
        "**Input Format**\n",
        "\n",
        "The first line contains an integer = n, the size of the array.\n",
        "\n",
        "The second line contains space-separated integers that describe \n",
        "arr[n].\n"
      ],
      "metadata": {
        "id": "GzaXqgBvE9Xc"
      }
    },
    {
      "cell_type": "markdown",
      "source": [
        "**Solution :** "
      ],
      "metadata": {
        "id": "SrpDwBsuZP7v"
      }
    },
    {
      "cell_type": "code",
      "source": [
        "# Complete the Function :\n",
        "\n",
        "def plusMinus(arr):\n",
        "    # Write your code here\n",
        "    pos_ratio = 0\n",
        "    neg_ratio = 0\n",
        "    zero_ratio = 0\n",
        "    n = len(arr)\n",
        "    for i in arr:\n",
        "        if(i > 0):\n",
        "            pos_ratio += 1\n",
        "        elif(i < 0):\n",
        "            neg_ratio += 1\n",
        "        else :\n",
        "            zero_ratio += 1\n",
        "    pos_ratio = pos_ratio/n\n",
        "    neg_ratio = neg_ratio/n\n",
        "    zero_ratio = zero_ratio/n\n",
        "    print(pos_ratio)\n",
        "    print(neg_ratio)\n",
        "    print(zero_ratio)\n",
        "\n",
        "  # Time Complexity = 0(n)"
      ],
      "metadata": {
        "id": "lEEUc-NwFfId"
      },
      "execution_count": null,
      "outputs": []
    },
    {
      "cell_type": "code",
      "source": [
        "# Custom Test Case for Output :\n",
        "\n",
        "arr = [-4, 3, -9, 0, 4, 1]\n",
        "\n",
        "plusMinus(arr)"
      ],
      "metadata": {
        "colab": {
          "base_uri": "https://localhost:8080/"
        },
        "id": "qBDnzq7kJ52q",
        "outputId": "cd8777b0-3f5d-4604-cb66-d8727216cf4d"
      },
      "execution_count": null,
      "outputs": [
        {
          "output_type": "stream",
          "name": "stdout",
          "text": [
            "0.5\n",
            "0.3333333333333333\n",
            "0.16666666666666666\n"
          ]
        }
      ]
    },
    {
      "cell_type": "markdown",
      "source": [
        "**<h2> Q2. Mini Max Sum**"
      ],
      "metadata": {
        "id": "dYCvSSGFX_7Z"
      }
    },
    {
      "cell_type": "markdown",
      "source": [
        "**Problem :**\n",
        "\n",
        "**Given five positive integers, find the minimum and maximum values that can be calculated by summing exactly four of the five integers. Then print the respective minimum and maximum values as a single line of two space-separated long integers.**\n",
        "\n",
        "**[Example] :**\n",
        "\n",
        "*arr = [1,3,5,7,9]*\n",
        "\n",
        "The minimum sum is 1+3+5+7 = 16 and the maximum sum is 3+5+7+9 = 24. \n",
        "\n",
        "The function prints\n",
        "\n",
        "![image.png](data:image/png;base64,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)\n",
        "\n",
        "**Function Description**\n",
        "\n",
        "Complete the miniMaxSum function in the editor below.\n",
        "\n",
        "miniMaxSum has the following parameter(s):\n",
        "\n",
        "*arr: an array of 5 integers*\n",
        "\n",
        "**Print**\n",
        "\n",
        "Print two space-separated integers on one line: the minimum sum and the maximum sum of 4 of 5 elements.\n",
        "\n",
        "**Input Format**\n",
        "\n",
        "A single line of five space-separated integers."
      ],
      "metadata": {
        "id": "ntRpOjDVK5QR"
      }
    },
    {
      "cell_type": "markdown",
      "source": [
        "**Solution :** "
      ],
      "metadata": {
        "id": "njJ7ZuXIZRzP"
      }
    },
    {
      "cell_type": "code",
      "source": [
        "# Complete the Function :\n",
        "\n",
        "def miniMaxSum(arr):\n",
        "    # Write your code here\n",
        "    totalsum = 0\n",
        "    minsum = 0\n",
        "    maxsum = 0\n",
        "    for i in arr :\n",
        "        totalsum += i\n",
        "    minsum = totalsum - max(arr)\n",
        "    maxsum = totalsum - min(arr)\n",
        "    print(minsum,maxsum)\n",
        "\n",
        "  # Time Complexity = O(n)"
      ],
      "metadata": {
        "id": "M2A_8mzPL8eI"
      },
      "execution_count": null,
      "outputs": []
    },
    {
      "cell_type": "code",
      "source": [
        "# Sample Test Cases Output :\n",
        "\n",
        "# Input :\n",
        "\n",
        "arr = [1,2,3,4,5]\n",
        "\n",
        "# Output :\n",
        "\n",
        "miniMaxSum(arr)"
      ],
      "metadata": {
        "colab": {
          "base_uri": "https://localhost:8080/"
        },
        "id": "JIcKDybxN54_",
        "outputId": "a4e74094-0238-42f1-d4c8-058ceb871631"
      },
      "execution_count": null,
      "outputs": [
        {
          "output_type": "stream",
          "name": "stdout",
          "text": [
            "10 14\n"
          ]
        }
      ]
    },
    {
      "cell_type": "markdown",
      "source": [
        "**<h2> Q3. Time Conversion**"
      ],
      "metadata": {
        "id": "6W9VuRLEYOIb"
      }
    },
    {
      "cell_type": "markdown",
      "source": [
        "**Problem :**\n",
        "\n",
        "\n",
        "**Given a time in 12-hour AM/PM format, convert it to military (24-hour) time.**\n",
        "\n",
        "**[Note] :** \n",
        "\n",
        "*12:00:00AM on a 12-hour clock is 00:00:00 on a 24-hour clock.*\n",
        "\n",
        "*-12:00:00PM on a 12-hour clock is 12:00:00 on a 24-hour clock.* \n",
        "\n",
        "**[Exammple] :**\n",
        "\n",
        "1)   s = '12:01:00PM'\n",
        "\n",
        "     Output = '12:01:00'\n",
        "\n",
        "2)   s = '12:01:00AM'\n",
        "\n",
        "     Output = '00:01:00'\n",
        "\n",
        "**Function Description :**\n",
        "\n",
        "Complete the timeConversion function in the editor below. It should return a new string representing the input time in 24 hour format.\n",
        "\n",
        "timeConversion has the following parameter(s):\n",
        "\n",
        "string s: a time in  12 hour format\n",
        "\n",
        "**Returns**\n",
        "\n",
        "string: the time in 24 hour format\n",
        "\n",
        "![image.png](data:image/png;base64,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)"
      ],
      "metadata": {
        "id": "Xzkd6yLyOtEp"
      }
    },
    {
      "cell_type": "markdown",
      "source": [
        "**Solution :** "
      ],
      "metadata": {
        "id": "N5-oykHjZUBg"
      }
    },
    {
      "cell_type": "code",
      "source": [
        "# Complete the Function :\n",
        "\n",
        "def timeConversion(s):\n",
        "    # Write your code here\n",
        "    am_or_pm = s[-2:]\n",
        "    if am_or_pm == 'PM':\n",
        "        if(s[0:2] == '12'):\n",
        "            new_s = s[:8]\n",
        "            return new_s\n",
        "        s1 = s[0:2]\n",
        "        s2 = s[2:8]\n",
        "        new_s1 = int(s1)\n",
        "        new_s1 = new_s1 + 12\n",
        "        new_s = str(new_s1) + s2\n",
        "    else:\n",
        "        if(s[0:2] == '12'):\n",
        "            new_s = '00'+s[2:8]\n",
        "        else:\n",
        "            new_s = s[:8]\n",
        "    return new_s\n",
        "\n",
        "  # Time Complexity = O(1)"
      ],
      "metadata": {
        "id": "dXSpFZAeV29R"
      },
      "execution_count": null,
      "outputs": []
    },
    {
      "cell_type": "code",
      "source": [
        "# Sample Test Cases Output :\n",
        "\n",
        "# Input :\n",
        "\n",
        "s = '07:05:45PM'\n",
        "\n",
        "# Output :\n",
        "\n",
        "timeConversion(s)"
      ],
      "metadata": {
        "colab": {
          "base_uri": "https://localhost:8080/",
          "height": 35
        },
        "id": "D3lSsiDLWybf",
        "outputId": "8ee36ba8-c1b4-44b1-c51c-985c244e46c4"
      },
      "execution_count": null,
      "outputs": [
        {
          "output_type": "execute_result",
          "data": {
            "text/plain": [
              "'19:05:45'"
            ],
            "application/vnd.google.colaboratory.intrinsic+json": {
              "type": "string"
            }
          },
          "metadata": {},
          "execution_count": 23
        }
      ]
    },
    {
      "cell_type": "markdown",
      "source": [
        "**<h2> Q4. Breaking the Records**"
      ],
      "metadata": {
        "id": "SwcA4AvtXZNb"
      }
    },
    {
      "cell_type": "markdown",
      "source": [
        "**Problem :**\n",
        "\n",
        "**Maria plays college basketball and wants to go pro. Each season she maintains a record of her play. She tabulates the number of times she breaks her season record for most points and least points in a game. Points scored in the first game establish her record for the season, and she begins counting from there.**\n",
        "\n",
        "**[Example] :**\n",
        "\n",
        "*scores = [12,24,10,24]*\n",
        "\n",
        "Scores are in the same order as the games played. She tabulates her results as follows:\n",
        "\n",
        "![image.png](data:image/png;base64,iVBORw0KGgoAAAANSUhEUgAAApcAAAD2CAYAAACDW6xHAAAgAElEQVR4nOzdf1CU973//Wdum8vb2TUW1IYshaAQCCZKmCzNnbWZQv2eJXTcY8fFM0A6oo4GR4K3RivKOUrUFINfrU6ojlRHJZMCcxSnKZnjgTMW7rtHMgnb4ZCaED3SEKmUHBVrstw2V8fp/ceC8mMRfyws6Osxk4l7XZ+9rjfXde1n3/v5fK7P9UhIWNzfuQMTJxp861vf4pFHHrmT4iIiIiLyEPrWnRSaONHg0UcfHelYRERERGSc+z/upNC3vnVHOaiIiIiIPOTuKLlUV7iIiIiI3Ik7Si5FRERERO6EkksRERERCRgllyIiIiISMEouRURERCRglFyKiIiISMAouRQRERGRgFFyKSIiIiIBo+RSRERERAJGyaWIiIiIBIySSxEREREJGCWXIiIiIhIwSi5FREREJGCUXIqIiIhIwCi5FBEREZGAUXIpIiIiIgGj5FJEREREAkbJpYiIiIgEjJJLEREREQkYJZciIiIiEjBKLkVEREQkYJRcioiIiEjAKLkUERERkYBRcikiIiIiAaPkUkREREQCRsmliIiIiASMkksRERERCRgllyIiIiISMEouRURERCRglFyKiIiISMAouRQRERGRgFFyKSIiIiIBo+RSRERERAJGyaWIiIiIBIySSxEREREJmG8FOwAREREZHZZ5Oaz4Jxffj5mKZYJvmXmtjcbaI+zZV0t3cMO7C3ZS17oI+3M1ZZWeYAcjAyi5FBEReQhYMko4uMJOyATovtRGqxfAIDQyirmLthIdNpGlm6uDHeYdcuJa4CSs6aySyzFIyaWIiMiDzlFA8TI7IRO8NB7OZcs7526tC3eyan0qrQfGS2IpY52SSxERkQeajYxlqUQb0F5b2D+xBLhYy/61tUO+N2K+i9Q5NgzAvOSh6mA1V/2VS36WULo4X+8Z1L0e4nASaTXp+qSe9ou9S2OJdkbBF7W0ngXC7aS6XURbAe9ZqqvK+5Ttsw8DCHuCUICJU0lwOvvty7x0hpamjjs5MDJCHgkJi/v7cIWsVstoxCIiIiIBl8fPT2URb57hUNoKqu70bY483lqfRULogOVmB6ff3cSb/ZLULLa9n0cSHnbOz6NuwFuWv/MB7kgvjfv+gS3HepcW8It6F6GeXWw//zKbFz1LyIS++2mj6o1MDjX0Lx89TNjdTSWkry2/079SRoBaLkVERB5ki2KJnAB0fn7niWV4Ftvys0iYYtL+u1K2Hyin/WIsSavzWDXfztxl+9hmZrOl8v5bCC1PreStRGg/VUJ+WTntVhcZ//dqsmdF4Vq2joqG3T0tocfZU+TBCjBzEZsznoVPy9n+67P9tmdeOnPfMcn9UXIpIiLyIJs5DQvQ/Ze2O35L0uoskqZAd1Mpr27ubQU8R+PbebzmPUjZ4mdJcuUQUVlI+32GZ0z6ipq389j7Xm+iWk3lKhvPnVxCQvjTvAw9SfE5Wmt7WksXuXz//+YKzbVDdelLsGieSxEREenDScpTU4EO/vNXg7uXuw8f46MuIPxZXOEB2F3n7/sklr1+T+c1YJKVkADsQkaXkksREZEH2ReX6QYenTz1Dt8wDasBeDto8TvLTy1dXoDHCHMEKMZBPHjNkdq2jDQllyIiIg+y816+BoywWFLu5n0T/k/f+EaRu6TkUkRE5EHmqaLxImCdQ+oy2x284ZyvZXLSE8Sn+VufRWQowGUuHBu81riPUOXBoORSRETkgeah7NQZujFIyNjN8kFd2TYSCg7y1mrHzfJVn3QAU0ly5zFwMsL4fBcJVjDPe6i4ufSyrxvbOoOkAQlpyOISfhgZ0D8IGrroAixPPk9SgDct9093i4uIiDzgug8XcnDWL1ljj8K9/T/43scePvr0LFenxJEwx05SpBXzYioJNNAMtG/fTdVTO3DHZFF2xEZFdR3nvTaSXC5cs20YZhtVh3f3mSy9lrrPVpPimMrc3ArWfPc4dVemMTfFSeqsx2g9f4WQmImB+4MuVvPRBScRkQ7WlhZQVuWhE7A+aWduaAc7i48Gbl9y15RcioiIPPA6qFn/Kp25m8idbyciMZmIxGTfqhsm7U3l7NtVQvPN8g0c2vQzvOtzyExMZvnq5Jtrujs9vPN2HlUN/ffQuO8INU+uJjU8itRX1pMK4G2jel8u+5/ayslAJpd4OHSgnJj1WSTEuVhT4Lq16pqHZo5SE8C9yd3RE3pEREQeMr7HMQJ4uVDb4Odxjn2E24l/JrTn8Y/DP1rRkphMzHQDTP+Pggy0W38LeHsfJSlBpeRSRERERAJGN/SIiIiISMAouRQRERGRgFFyKSIiIiIBo+RSRERERAJGyaWIiIiIBIySSxEREREJGCWXIiIiIhIwSi5FREREJGCUXIqIiIhIwCi5FBEREZGAUXIpIiIiIgGj5FJEREREAkbJpYiIiIgEjJJLEbk39gJ+UfsBJ+v/g7dW2EZoJ1n8y4kPOFn///DLza4R2oeMtIj1FbxX/wEn3z+IOzzY0QhASvH7nKz/gPcqt5IU7GDkgfOtYAfwMLLMy2Nt9j+SFG7FmOBb1n3pHL+t+Bn7T5wLbnBjjL9jZV5ro7H2CHv21dId3PDGr4W7ObLCTigd1GzOZL+n70oXGyrXM3cKdDW9zdKCKv/bmPEEYQaAlci4F4Ehyt2XKMJCAQwiZs4GqkdgH+PVOn5+8h+J5muaK+az5Z2+62xk7C8jc4YBF37DgpzdwQoSgJjwafgulSjiXwBOBDWccS4w5z36iakAGGGxJACNIxqzf3OLqtiQOA0663ltaSHtfVem7eCXqx08zmVOH3SzU9fMuKKWy1EWn19B+eYs5kZa6b7URuvnbbR+3gGhsbhWH+QXa58NdohjhiWjhIObs5gbadB98dax6rZGMXfRVsr25xEW7CDHqwkGkycZGJOiSJpv778uLZnnwgyMSQaTJ00cehvHKqj48BytZxuoOjESiSXAUSpqz9D6+Rmqf310hPYxXk3EmGRgTJpKwv+V039VeCbfi7P2rL/NORwldcd+w+mzbbR8+BuqlCTcp8Cc94qqWpo/b6O59jgVIxjt7RiTHvPFOuNZ3AOqoaTk2URMMjAmPYZ1QnDik3unlsvRtKiEzWlRGGYHNfvy2Ptex6114W7WbHTQ8q9nghffmOIk120nBC+NB7LZUtn3WDnJWP8KkR9W0Rm8AB8AJuZ1g7Cn3UTgudlqkJQcR8h1E3OSMcz7G6jKbxiR9spbOjhdtILTI7qP8c28bmLMsOOm9Oa5sLjnED3Bd36HO4ujoqGENxtKgh3FA+V+z3v3e4VsfG+ko7wDpolp2EiYbwdPbxeKi9Snpvr+xklBjU7ukZLLUWNn1Y/thGDS8t6AxBLgYhV784b+mrYkunh5np3HDYCvaK2vpqZhQBd6nIOEJw26PqnHOycHd6IN72e/ovLEOYhzk+GeQ6jZwemKUpov+ttLLNGvuEh98jEAur6ooeZXDVy9nz/7ntmJnA54P6OucuCxqqVybe3t3x7nIDU1lWgrwDd8+XEt//6+Z+hu9H7lv6L1ZAU1TR3+y4bbiX8mFPOLWlrPAtiImO8idY4Ng9sdt/7lzEseav6tmna/52I0GHRd6yAsLBa3HfZ64GalfvEc7TGx/VuG4xwkPGn1sx2Trk/q/f4dlsRkYqZ4OV/vO/Yhab7r0uAbvmw6TtXJAddwz7H198XovXm8B8Z0t9d8LNHOKKzeNpoHfoawEZH8LKGGlwu1vefQV964dIaW/+953C47j5sfU/F2FVeJJWX1K8Rbv6H9w6NUnxrimhlBf7t2GcJiSVoGVYd9f0P6nFiMrnO0GLHED/XGcDtzf+QkYbqvhWuo69aSmEzMdAPz0hlaBn4mes+X2XXzHAOEOJxE+r1U+pfz6TnmZhvNXzxGqttFtNF7zmwkLFvC3LCJdPWe177vwd/2evff/7r0/R0mF2rbsGZk4po58eY5s8zLIfMFG4a397yOfXd33nuvaz8b8vs5oOfcWvH2HsM4l+/aN3x1V9XB6sAcJ+MyXZ22/j9y05KZFQqt5zuIj5k2xBv7f18NXZ/2fN7p+5m+pfda9Vu/yD1Tcjla7G6SwgHvx1Tvu/MvoJCFW9n8k2TiB9YKznRWnD3O5pzdtPQu+3Eeb6VNo9mTQ7w9yvcF7Uzme9/9DcxPJ75nE6nPTOW1pUX9xrdYFuxgT24yEf124yQ78xyVezZRNupfmmfpvOYiesrTpGTYBieYQ3Lg3rOOxYm2/gmK08Xylf7+Fhtz39jN2peisPTteuk5vtu37R6ciDuy2Z5rp/NkLa/9Lo+31meRENpn/Y0oJtY3UNb3fQ4/5XDiXpTD6Xdf5813gjPW9m9ftNEZ5rjVatBTqbd/8dXgIQc/zuOttCg/W/HSuK+eLccGr/ne4n9mQ+Jlql45jnXnalLD+5wVpwv3vBJWrC+/lRz0HFuLn720nqzltWJ/Md3tNZ/O2gIX0ReqSWsoGrDBZFaszyPJ2kZVbQOH+pQP+9RDZ4ydaN9OSJ0TxYkb/0hGXM9Okmfz+LVMDnkYXX9uo3W6jXh7DhwuhfBMEmZA98dfYSQCXQPKx7lZ9fpSUuOmDkjiez7vRdmUNdxa2j3JwYr1LqJND3tz8qi5eV3bSF2/gzWJBq0nN/Fa/a33uFduxR3pJ1avh531Hur6Lew55l0eTlvtzO35jLgcsRz6JI7lL03tCc9BzIR/4M1jfd6Dv+317r//ddl7LTbOm0zSC7e2Gf/UH4hflEzYBN8x+H7kRLLWl/s/1mPJXZ333uvaz3b8fg64Vc+976bCWsKG5L51qhN3mpO9eX2vh3vX+sUVwl649SM3KTmOENo4/7WfxDLcScbqpaTbB9TZOHEvWkLd4Tx29vu+8BKT9lPWJFppt6/j1aI+F7ejgO1vuIi+7mHvqlpa7/9PkR4aczlaXrARCpgXzgyqCIdm44f/K5l4o4PG90t5LedF0pJfJH3tUU5fMrHEpZObP2CgClYSEqfRfDib9O31dGIQvzCdsE9KyXplF6e7wJjhINN56x2WjBIOrk0mgg5qDuSRnvwiacluXj1QT7sRS8b6rUG4w7OKqoY2TKwkraygvHQrqYnD3ZHsYPk7O1ieaINOD2W7ev6WV/J484SHTsNGfHj/2jU+fzcbkqOwXDtDWXF2z/EtofpzL5a4dLbtKBiy5Sf0yRJ+8UYWCUYbNb/axcaCdbxWtItDx2r4bb/EssBXbsoVmk8UkZXsO49Zxcdpvj6Vuct2sMZxP8fq3oUabbR00dNq0FOp3zhH44d+Cv+6hI1Fhf3+K/vUewd7mcYP968nZcLHPce459oyIcSexdq0PkUbytg8YB8b64f7YXH31/y9sMyyE/pJKVmvFFJ3CYyYdDLCPmZ/jps3PVfAiGLuwvvcyb3ENfUKH31OTxdpb9foFf6r9s/+y899mR/GTOTLpmr2Fviu+bRX8tj/4RVMaywLVxYQ0fcNDUUU17ZhWu2sevPWOkvGJlYkWun+tJz84oZ++6g6MOAcFpXTPNylEmknyVvLxleyKTtrQqiD5S98TfV2N1nv9dQFqXn3eJR6RZGU2LPNY+cwmUpKhoPuU4Wk5xyn9QaEJKaScZ97GQ13d97rObhr4Dmp738DzRDCXirjXxzcrLvS15ZQc9GEUDvZqwMxg8NjGBfO0klP13hv78l5j//hME+mkGq3YZ6v51BvHZ+czZb3z9Ft2Ej5ySZS+r2hg5q1Rzh9DSKcW/mXRb3LHazK9bWS1xQHJkmWW9RyOVqsvjEw3d983W/xoO6jfl0UHVT9LJN/v9jRr9unu6mUNw/HUp7vIHqOCwv9u4XMs8fZ8s454A+0r00mbMIZqtYe5Spw+ouVzA2diHVKb2kXuf9kJ4Qr1O1xs/ckN/fdXrmJtd8po3zhs6Qus1O1fXSbZFqK17HF3EH+/FhC4pys2eNkxQUP//5vZVRUDu4Ks6zOwRVpYF6sZeMrhbdadC96OP22h9NVNiwX+47dXMcKZxTGjTaqilZQ2fPndTeVs39pG0blblIjU8leXMTGdxgkZJYdy8V63tywidN9Kqb+v35tZCxLJdowaTn2Khv7tFpfPbmbjdgoz3fw/cwl7G0Ixg0rV6j4uIOU5FjcdifGU1MxP6/jOFEM+to420DzgG6j0LSf3sE+rHCxnI2rSm6ek/bKTWx/uopfJtuIfsEOJ3sO/kUPLQMr+cSlw+7h7q75e3T91jYb//RTUqYbNL+XR/VZ4MPP6bZPZfKkobrwRlZlwxkyF/u6SB+dE4vR1UDNxxNZ4ads9+FCsms66O57nC96qM4vJeFEAXMjn8cVDvv7rG/ftY794WWsSUwlf30tr1U8z+ZsO5ZrHvb+rHTQZ/FqQ+2A7sdpuFcP91d0UPd2Ic0XofmPHWTHRdHZsJv9pzrg1B9oXxBFtDH5zg/KEG5t8yzti2KJ7myguKiWbmr5r4vpREca+GvgG4vu/Lx30F7fMSCZtGMWDL8PC20cemMFVb2/H5rK2btnNgm7kgl70kEE1XeUpN7W/1TQ3Okg9Wk3EU6D6FBora+AGS8PLtuwidcW2+juW5dzjsZdm6h+uoqMmKdJyYC6yr5vKufN4jh+ud3J3J+UkHIsj8431uEKN2k9uZu9DUiAqeUyyNwrt/JWQZ//Vqb3L9AvsbQRkexk7ooCViU+xjc3gCmhfG/ANv82IIHlxl8H9Yzd5EwmPhS40MC+k4NXd1e18SXw+BPP39XfFRgdNO/JJmtxHnvf99DuBUukHffKEsord+OK6186MzEWA5OWmj6JZV8DknR+PIfoCWCerffTldnA3t+dw8QgJjHLf3jmOSoGJJaDufneDGPo4RAnf895L1imx/VvLRpF7e+foR0bMfNTiA+F1qbddD85zW/X9L3xcr6uZNA5ab/QhQlMnhJ733u4q2v+Xg3apon59RBlR9vh07RcN4iZvYPnwqHzsxoaHaGE+i3cP7G0JCaTsDCH5QV2DBPgMcIGtaR3ULPrCI3XDKKd69i2JZ2ESV4aK3YEsMXHxDvgc9h9PfA/aAdt0/z6/pOjYLmr835vuv9Ydyux7OVp48vrgNVKTED24qHqkw4Ii8L9UhRhN87x0dsdREz1n+b3SyzjHCQ4l5BRkMPjE7yAldAn/bypoZA9tW2YU+ys2F/C2pdsmBdq2FeszHIkqOUyyJp/V4sxHcDG953PEjKohI2EZXlkp9mJn+77oJnXTTC/Dswcj1MMJgNEujhef5suDuvUQOzt3lz0ULPLQ80uGxEZOeT/xEl0mINVO0vwLsjrGWaQ5bsBiA7O+2ll9KunNbn9T0PMnfg/X/E3wDLV3zhDoPMslcN+sU72zc9ptbOh/gM2DB0MMRCcLzlPNf910YkrORmun+HEPiB/FPb79V/52yjs5uFwlNPnl5KQmEwCHVSfqIUZQ3+eLfNyWPFPLr4fM9U3bs00MW+YdJu32cXFcrYUz+ZIUTJJcdDZUNR/FgcJgrs774HzNeaNwG6x/eQZ2uc5SX0Juv9QSiWwfKjCcW6Wr0znh89EEWIAN0xM06Tr+u3vkW8pXsc7MytYPstOiHmOsk1F/hsi5L4puRwt/32Zq2lRhDwxmwhuJRGNBwt7Jq8tYNag5NJORukOsuOsdH/eQNmvq/rczZnFtvfzAvZkBfNCAzWfDT0oyvxT/ZDrRk8H7ZWFvFZZw5pju0md3rf745t7ruweNWzACH9Jdp2h2nObfXR9zEcjG8FteCj7uA1XeBTd509rmvJxqvr//Zjs2XYsF89Q7QFm+C8XkVvGnkWxWLxt1L13nKqaozfvkk3Z8x9sSBxqDzZSF9lv3ugV+t3ZxFOtL+cgu9PzPuZ5SvnogpOISJPzjbcZIrRoB0dWJBNGB831R9l3sprTvbMY5Fdw0u9Nhz0cS0iZYcANwLAx6yUb6AfSiFByOVpO1PLpT+zMDZtNdhq86acLepBF2aTHWen+9CjZqwaPawqIz718DYQZJtVFheOke6iB5j95SZ1uJfS7vcuqOH9pPXOn2IhZaYMDd1BhXPJiAqHf/cGgcasAlpm+ruGr/3M/81NcwXsdmARfFhWO8JyQ96773eOUTYiju/4hmqh8wkQs8OA85elYBWVPdmH579LbfI6zWJEWi+X6GQ7lrKDqLrq0Lbk7WJVo5aqnhD1mFtscLja8Uc/SN4LbrTgm5vEMpjs67+NBBxVV5RhPfU3dkL1PNpa7kgkzOqgpcN/lWEkXG9a7iKaNqs0NzHoji6Tsrbh/d3efA7kzGnM5aqopa2jDZCpzV5aQeid3X/ckN1//z+8Hz+O2cDYRgZhc1lPF6QtAmIP8/CDdsuyPo4BfvFfFmgX+7hB3MfdJK3CFCx/fWlrd5BsjmZC2yf/xdbhJ6fsnHj5Ny3UwYlLITRtQNjyLfEcUcIVPT91PSljqaxGe9CzuPVkBHMcYYBerqCwqovqhGH7U06UXFkV6v+vERkKBi4TxcjfHIA1U7yqkcuAcuv1EEWoFrl3mo4FfqHFukp4Y4o93FFC8IBbjmoeD68tpLCii6oJJWPJWtmWM1HPlb+cyXhOwziBpwGc3ZHEJP/Q3DdID607O+/jQ/V4J+3cdvU1reDKRocD1LtoH1lXhTjJmDnVDnY3UPatJCTVprd3NoYYSNh/2cHXSsyy+zYwgcu/UcjmK2neVcOLprWTE2Flz5H1Sm37PRx9/zN+esJNkdxANvub6XqfO0Z4WRYTjDbatPkLVZ1/D9Nmk/q+XSZkB3dcDEZWHQweqee4NF9FpOyif2UBVTR3nvYB1BimpLr4f/mcq7rKV434lOGYTNsVG9Noqvu/28J+ftdHiuUKIfTbfdziItsLVpnL29ZlLvXvfJvbHlLEm0c6aI1Wk1NdS7fkcLzaS0lJ5eU4Uj16IoqVhd8+TfY6yvex5Dq60k7L2fUKfOU7Fxx1Yn0whc0HyzX3suZNW5tuo23WEuSV5zE3Mo+xXL/Lv/1ZN4yWgJ64fPmPw0Rt3+ytc7l0VH32eTnxMLAv3HuTRXx+jkZ7PVfhlWi5C/KhPvTVaavn0oovocAfb9qzj0Mk/4MVG/LxU0u1RcN3foMveKVuuULend4xzA4cO1PDcGy6Slu0g43fZdzD+OLB/R91nq0lxTGVubgVrvnucuivTmJviJHXWY7Sev0JITPAfeymBVk7j5zkkzX6WzCNb8VacppPJxNhfZn7ys4Savt6ogXqnzTLPl5O/y3dDV3flDspeKGNNoosNRX9gaYEGBAWSkstR1UDZ8lwuFGxlxbwo4l9wEv9C77x4JlfP1rJvW5/JbD2F7DkRxfYFsSQtXH9zfGV3p4ey7TuwZlfhDsRtgQ1FvJZ3llUbV+KKS2Z5XPKtdTe8tDZ4OB+A3dyN5l2ZZDflkb/iH0mKtJMaaSe191Dd8NL+u1+Rv7l8QItuBzVrs/EW7CZ3XhQJziUk9Jl28Orntex7a3e/R0Z2V+aRa25l+zInCfNzSJh/ax+ttQfIL6q6/27Ti+W8mXeZjPU5pM+x417hm5fOtx+T9k9raL5yvzuRO9dB5eHjPLc+i4Tpz+Je8SxuwOz0UFa8gy/nlz3AyaWH/fuOE1OQTnxiOv+S2DM7xfUOGk8UUmxdyvG0vq0/NlL3bMUVDu21Rezs+0OroYj8w09wcKWdzB0FNC8e3ZsjGvcdoebJ1aSGR5H6ynpSAbxtVO/LZf9TWzmp5PKBVP1WKfG7c0iZ4WRNQU8Ff8NL66ldvP7fyRzMHTD3s6OA4mV2LF4PewtL+tTnHdSsLSTinR24HavZlvF73aAWQI+EhMX9fbhCVuuY7cwbx/o+jsv/Y6lu6X181Sg8oqrv4/eGeizYaOsbk9/Hx/l3aw7RoR9P6L/8cOfjftw6l3fzt8jIuHnOx8q1PooelL+99/GU+jw9XHTexzYllyIiIiISMLqhR0REREQCRsmliIiIiASMkksRERERCRgllyIiIiISMEouRURERCRglFyKiIiISMAouRQRERGRgFFyKSIiIiIBo+RSRERERAJGyaWIiIiIBIySSxEREREJGCWXIiIiIhIwSi5FREREJGCUXIqIiIhIwHwr2AHInYglacVS3I4orID5l3PUvV9K9amOYAf2gIklaUU6SdY2qveU036bkiEL17EixU6kFcCk65MaDlaU035xlEIdl2xEZGTimumlsaiUxtuUtMzLIXu+g1nfNgDw/qmeqndLaTw7OpHK0CyJWbjS4vhbUyFVJ29XMpaU1TmkJtrwfUwu8191ZVRUeugenVDFj5C0HLJ/lEyMFTAv8+mH1ZQdrh1358SSmEXm4lSe+7YBeLnQ9O8cfLuKq8EOTAB4JCQs7u/DFbJaLaMRi/jlYPmRHbhnGGCamDfAmOT7MLWcKOT1txuCHeC4l7S6hEz7DCLDp2KZAHg97JyfR52/wuFuVr25EtcMK9wwMU1ggoFhAN5zVBZlU6ZT0k9Exg5yU2OJDLcRYgC0UZWcySG/pR249xSwOHEqxsDja16h7vCr7KzUj6pRZ89iTbaLWZE2Iqb4Ev7Wky/yWrH/4pYFWyle4STays16C8PAmADd54+zefluWkYteOkVn1/BW2lRtz5b4/ScWDJKOLjCTsgEMK+bN+sI81ID+9eso0Y/8oNO3eJjXMqurbhnGFxtKiXL+QMWpP2AtJxSGq9ZiV+4jjWOYEc4/s16Zg7R0yfzqGkOWzZ17UpcM6Dl/SKy5vnOxwKnm421bZjWWBauLCBiFGIeTyLnxBIfNg3LjZ4k4zbi1+exOHEyXR8e5dXFvcf3RbIOe7hqTCXlJ5tIGZ2wpa/I50mIsfG47zfuMLJYu8xJNOeoKs4mrafeWrC4kOoLJpaYdHLz7aMRtfS1qITNaVEY1zzsX9VzTuZls7/JiyUmnQ1vjJMvE3sBxcvshNxoo3q7u18dzHQHK/45BzWHBZ+SyzEtDxQrUOAAACAASURBVFeiFboa2LP26K3m/rNH2fKuh25sfD9zSTADfCCU5fRUtGmlNHpvX7ZmfSEbt2fz+q7qPt0vHTQX7aauE4zI2aSOcLzjzemCni+AtB9QPUyLQsuudWzZvoml+aX9hhhcfSePqk9NsD7N3IUjG6/4cWIdS3vO4YJTbcMULufN4kI25mRz6OS5W4sv1rL/7QY6geinnSMZrfiRkWonhCvUHcij+ubwknNUrz1CoxfCXliKK5gB3qGEhQ6iDZOW99ax/+bQMF8dXH0BLLOcZOu3S9ApuRzLls0hegJ0flwxeHzasQ/41AuWyOeZG4zYHloNNPsd6+rBO3zDpwyrg+ZT/scVdH3jO8DGhNGMR+5JQy3N/n5IeL72je3TORxlOTwXDnT+gYpB42TLqftvL0yKImHM/3CzkzJzKlw/x+l9A+thDxWftAE2ZiUHIzbpS8nlGBYRGYqBl/bPPL4FcQ4SnA5CACjnwiVgyjTigxei3OQizApc9/JlsEN5INmInGwFvqLz82DHIvcsbSqhQPc1jZsdVfYoHp8E3X/+Q8+NirFEO51Ex/lW1128DFgJeyp4Id6Z5wmbAnR18O8A2IhIdhKfaAOg+78vcxUIC88KXogC6G7xMS1mymO+f9wAWMJbe3NImASdyUUsLaim9S9eYDKhTqA2eHEKWHLTSQqFzobfUB3sYB5EaetIjgHzfD1lnmAHI/fGRoa7p2v2344GO5iHywwrk/u8dJUcZNVsA7pS2bJwHY1fXKabKCxTxvqXyVSsk4Ab39ANRGwu4ZfzbGCeo2xpNpUn/kzXaoiYPDXYgT701HI5bkz23TELTO73wZmIdUpQApJejgKKF8RiXPNQuU+pZcCFZ7FtpYMws43qwyXjbsoU8YnP301mjMHVpnL23XYKIxlplkk9XyaTHiOsz/LJk6YFJZ57FTppou8fhpXQJ24tN4zJ/t8go0Ytl+NGCQfLpuF65hsaD/t+9fuqh6/o1NQ3wRO3hG35LqK5Qt27eZoCI9DCnazakUPSFC8tx3ZzSNf6uBSy2HenMpfqObi2XD8QgqzycCmhC2Zjfljq62npGQPbdak+mGHdteZ9Ryib4CDsbI2vRyN8IgbQfWW4m85kpCm5HMPqOi+zgShCn/S9bnmnsM88ZDaiv2OFGx10KaEJjrglbNvpS3waD7zKzmPBDugBE+5k1Y5/xhUJrScLeX2f+sPHo5DFJexbZifkmoe9azb5nz9WRtaxP9OZC9HfjvK9bjjK/j4/1CwzbViAC2N+LGwbXV6InvIEc4HTF6uozK+6tfqlUEKBr69fDlaA0kPd4mNZUwedQNiTfqYbCs8kJgy41MHp0Y5LwJHHW72J5eFctmhi78AKd7NmZ09iWfsz8ovVZDkexa88eDOx3L9BLfvB4+FCFxA2w890QzbSZ9qADi58OOqB3aVyPu0EpthI8DPdUFLiDCyYfHl+LI8bfTgouRzLautp6QLLLBerBsxvG7/CQfwEaG2quu1jCiXwLPO28os3skiYdIW6A9lseefc8G+SOxe3hG0l60kNN2k5sYnXisbfo+nERkJBBW9lPIvlUgN7V/WdW1FGXy11n12BSc/iKhjwZeLI890sd+H3VI2DzoHqpnOY2PjhK1n9J0sPz8E9Zyp4P6bmcLCik156/OMYZ8ko4eBKOyHeNqorjnD60mRi5mWx+AUbRleD706/YAc5jiWt2ErS9N5XVp57yUEEbZz+3Tm6epZ+2ecZypaM3fximYMww6S9qZ7/uuRno9fPDvts8odFRMY6XDMfu/k60u4kIfQKzbW/50LPsu4/VlNW2fOt5ljHzwvSibfC1fMN/Ocf/c1q3zHss8klgOxZZDvjbn2Rf/d5XLOmcvXTWv7zTz3L+l3zNlKLfskqx1QMs4PG352h08+Tmfqddxl54Vls259H0hQvrbW/4qCnA+uTqWQvchBhXKGueD47x8WNVg6Wv7MDdyR0Nv2GQyf/gHe6nWy3i/hQk5Zjmbw+aA5MGW1KLseB+JUlbFhoJ8y4tay7s4GywnVqDbhPy9/5AHfk7cv0fYbynZS/7bPJHzIpe/6DDYnW25bpbiohfW35HZe//bPJJeAWlXA81377R+r1u+YL+EW9i+hhNtv3vMsoceSxbXU6SX2/TK53cLpiE2+Opx6YcDer3lyJa0afuuKGl5b3/zeb96inYyxQcjlu2IhIfpZQA8xLZ2hp0i8zERG5e5bEZGKmG2B2cb7eM36TsTgHCU9aAS8Xahv6PJJXgk3JpYiIiIgEjG7oEREREZGAUXIpIiIiIgGj5FJEREREAkbJpYiIiIgEjJJLEREREQkYJZciIiIiEjBKLkVEREQkYJRcioiIiEjAKLkUERERkYBRcikiIiIiAaPkUkREREQCRsmliIiIiASMkksRERERCRgllyIiIiISMN8KdgByF+JcuF12rH+qpqzSE+xoHhzhTlzZLlKemoYB4G2j7t+OUHXy3B1uwMbclTkkhH5Fa+1uanRqhmAjIiMT10wvjUWlNN6mpGVeDtnzHcz6tgGA90/1VL1bSuPZ0YlUBgtZuI4VKXYirQAmXZ/UcLCinPaLd7iBcDcZ2XMIvX6W6j3ltI9grDK0kLQcsn+UTIwVMC/z6YfVlB2upTvYgd2TO69TZHQ9EhIW9/fhClmtltGIRfxykb0nnbnftREx3QpAd1MJ6WvLgxzXgyF+ZQkbFtoJM8C8bgJgTDIAk86GUl4rKB+20o3Pr+CttCgMvDTu+we2HBvxsMeViIwd5KbGEhluI8QAaKMqOZNDfks7cO8pYHHiVIwbJqYJTDAwDMC8Qt3hV9lZ2TGK0Qvhbla9uRLXDCsMPCfec1QWZVPWMNxGHCx/ZwfuSAO8HnbOz6Nu5COXAW7WVb3n0TAwJkD3+eNsXr6blmAHeIfurk6RYFC3+JgXS8LTUTxuNXyVgQTOSwXkLrQTeq2B/WvdLEj7AQvSfkBaTimN1wzCHEvJX3T7TVgySticFkX3Ne/oxDwORc6JJT5sGpYbJuaN25eNX5/H4sTJdH14lFcX+87HAueLZB32cNWYSspPNpEyOmFLj9S1K3HNgJb3i8ia13tO3GysbcO0xrJwZQERt92CjdQ9W3FHmlzVxyR4FvnqKuOah/2res7jvGz2N3mxxKSz4Q1HsCO8Y3dTp0hwKLkc83bzek/Ss+CgZ5x2XYxRvysiv7iQjYvWUd3UpzXs7FG2vHcGEysxL7iHfn94HtuX2Qm55uFgw+WRj3ecOl1wK3GvHqYLtWXXOrZs38TS/NJ+3a1X38mj6lMTrE8zd+HIxiv91awvZOP2bF7fVc3Vm0s7aC7aTV0nGJGzSb3N+y25O1iVaOWq5wi/7Rr5eMW/jFQ7IVyh7kAe1TeHl5yjeu0RGr0Q9sJSXMEM8C7cTZ0iwaHkUh5q3adq/XcFff1X/gYYEyYO8U4Hy3ekEz+hg+riPAibNnJBPlQ6aD7lv4+165ueYQsTRjMegQaaT/kbiuDBO1xviqOA4gWxcLGW7eshMnQk4pPh5fBcOND5BypODlxXTt1/e2FSFAn64SYBouRSxA/LE4/xKNDV5e+mnt5uPmit3c3+Ycebyf2zETnZCnxF5+fBjkV8XIRZgetevvS3OjyLbfkuommjel/huBnP90CyR/H4JOj+8x96bqSKJdrpJDrOt7ru4mXASthTwQtRHiy6W1xkEBe5ybEY5jl+e3jwrd/x+bt93XxNJeQXK7McFWnrSI4B83w9Zbobf0yw5KaTFAqdDb+hetBaB8t35JA0xUvjgXUc0sckuGZYmdznpavkIKtmG9CVypaF62j84jLdRGGZ4gRqgxWlPEDUcinSj43UPatJCTVpPVVK5cDxPI4CcudFwYVqtq8d/k5yCYDwLLatdBBmtlF9uETHfCzo6e42rnmo3Dc4tYzPz8MVCa0nC9miu/vHHMsk3xRfTHqMsD7LJ0/S8B4JDLVcitxkI6HA1yrZfbac4oGtkr3dfKaHvZuK1M03GsKdrOppAWs5tlstYGNB3JKe7u4r1L2bR82AH2C9Myj8TS37Y1bl4VJCF8zG/LDU1+rcM46561J9MMOSB4iSSxGgN7Hc5vS1Sm7OKRk8yfNPXCRNAbCz5lcfsMbPVpJyP+BkLrSefJHXikc86AdbuJNVO/75ZgvY6/vUHx50cUvYtrO3u/tVdvqZ0zXzR3ZCABLzOF6f52cjdjbUf8AGzU04eo79mc5ciP52lO91w9F+Y8UtM21YgAvX1MosgaHkUgQbc98oYUOyDS7UsmWoVslfl7Cxyep3C/E//inZs6C58n9T8UfwfjGiAT/4wt2s2bma1HBorf2ZWsDGAkceb+VnkTDFS+Ph3CG7u6sOFNLo92MSR+bqLBI4Q9nbx2jBy4URDVhu8XChy0V02AxcMGCMrI30mTaggwsfBiU4eQApuZSHXCyuPT9nVeLU4Z9ScbaB5iEePxia9lMAzCu1NGs8/P2JW8K2HTkkhXppOVHI628rsQw2y7ytFOc7fV3hB27/lKSrDbV95sPsaxru1QB/5cvaWppHJlTxq5a6z1aT4ngWV4GD6qI+nylHnu9muQu/p0qdAxIgSi7HNBfuAjuP976cMo1HAaY+z6qCnjkk6NAzVe+Zg+xDW8mIscK1c3z0x8dIKdg66AkwXzYVUjVobji5ExEZ63DNfOzma99zqScTU7CVVT3Luv9YTVllz7eaYx0/L0gn3gpXz3/MeWsqqwoGTtGta340WTJ284tlDsIMk/am3+OdmcOqggGF9LzwMa9xXzmNz+SR5NzKL/gVBz0dWJ9MJXuRgzCuUFdRNC7O313XKRIUSi7HtNmkOJ1ED1wc6cAV2fuiDVNftPdmUSaumJ7+uymxpDhj/RZrvaHk8l7FvPAyrsSBfaRTSXA6Seh51d109uYXQcqil4nvKR4S48AV42+ruuZHU+aPHIQZAAYRiU7/j3r0htKi5HJsu1jOluKpbFudTpIzh7ecPcuvd3D68CZ2jpM67m7rFAmOR0LC4v4+XCGr1TIasYiIiMgIsyQmEzPdALOL8/V6rLAEnpJLEREREQkYTaIuIiIiIgGj5FJEREREAkbJpYiIiIgEjJJLEREREQkYJZciIiIiEjBKLkVEREQkYJRcioiIiEjAKLkUERERkYBRcikiIiIiAaPkUkREREQCRsmliIiIiASMkksRERERCRgllyIiIiISMEouRURERCRgvhXsAGR4lnk5ZM93MOvbBgDeP9VT9W4pjWeDHNgDJ5akFekkWduo3lNO++2KhttJzcwm9ZlpGID3fzzUHN5Nnc7JbdiIyMjENdNLY1EpjbctG0vSiqW4HVFYAfMv56h7v5TqUx2jE6oMErJwHStS7ERaAUy6PqnhYEU57RfvcAPhbjKy5xB6/ezwny8ZYXdR141pd1OnyGh6JCQs7u/DFbJaLaMRiwziwL2ngMWJUzFumJgmMMHAMADzCnWHX2Vnpb5s71fS6hIy7TOIDJ+KZQLg9bBzfh51Q70hPIt/Kcljbihgmpg3wJhk6JwMISJjB7mpsUSG2wgxANqoSs7k0JDvcLD8yA7cM4z+xxcvLScKef3thtEKXQDC3ax6cyWuGVYYWA95z1FZlE3ZsKfEwfJ3duCONIb/fMmIueu6boy6+zpFRpu6xcew+PV5LE6cTNeHR3l18Q9YkPYDFjhfJOuwh6vGVFJ+somUYAf5AJj1zByip0/mUdO8g9J2lr+Zw9xQk9baQtKdvvOSvr2WVqaSkr0Vd/iIhzyuRM6JJT5sGpYbvkRxOCm7tuKeYXC1qZSsnuObllNK4zUr8QvXscYx8jHLLalrV+KaAS3vF5E1r7cecrOxtg3TGsvClQVE3HYLNlL3bMUdaXLVO0pBi193V9eNXXdbp8joU3I5hrXsWseW7ZtYml/ar+vp6jt5VH1qgvVp5i4MXnwPirKcni/MtFIah/vyc2Yyd4aBef44+UW1dPcs7j5VSPGpNsxJz5K6zD7SIY8rpwvcPcf3B1QP24WahyvRCl0N7Fl7lKu9i88eZcu7Hrqx8f3MJSMbsPRTs76QjduzeX1X9a3zQQfNRbup6wQjcjapt3m/JXcHqxKtXPUc4bddIx+vDO2u6rox7O7qFAkGJZdjWgfNp/z3N3V94/vlaUwYzXgkwhFFGCYtDSU3E8te7e/+gXYgYqYzGKE9GJbNIXoCdH5cMXj81LEP+NQLlsjnmRuM2B5aDTT7HevqwTtcA5ijgOIFsXCxlu3rITJ0JOITkbFGyeW4ZCNyshX4is7Pgx3Lw+V735kGXOZCje+1JTGZhGQ7FoCLZ+m8Bkx/QsMV7lFEZCgGXto/8/gWxDlIcDoIAaCcC5eAKdOID16IcpOLMCtw3cuX/laHZ7Et30U0bVTvK6RllKMTkeDR3eLjUdo6kmPAPF9PmSfYwTxcQqwGYGJeBOxb2bPLSQQmLccyeX1fFZ3X1kP4Yzwe7EDHqZgpj/n+cQNgCW/tzSFhEnQmF7G0oJrWv3iByYQ6gdrgxSlgyU0nKRQ6G35D9aC1DpbvyCFpipfGA+s4pHuwRB4qarkcb8Kz2LbSQZjZRvXhwV2zMopCrTwKgIE11HZr+QQDa5BCerBM9t2RDEyePLXP8olYpwQlIOnV091tXPNQuW9wahmfn4crElpPFrJFsyeIPHTUcjmehDtZ1dMa0HJst1oDgq12N4dmwtzwc9Qc9gA23xhY7+VxPG/cWFLCwbJpuJ75hsbDRwHw5Zpf0alrP3jilvR0d1+h7t08agbcUGHJKGFzWhR/ayohv1gnSuRhpORyvAh3smrHP99sDXh9n/rDg6H1ihcipxG2EDjRwekD6zh9c20yYVMA06QzaBGOb3Wdl9lAFKFP+l63vNN3rJ6N6O9Y4UYHXbpDNDjilrBtZ29396vsPDa4SOaP7L4xsol5HK/P87MROxvqP2CD5iYUeWApuRwPwt2s2bma1HBorf2ZWgOCqO58B2sSY4l8xg4nBiT4ac8TYwXz03M0Bye88a+pg860KMKeXAIc7b8uPJOYMOBSR5+EXkaNI4+38rNImOKl8XDukN3dVQcKafQ7LiSOzNVZJHCGsreP0YKXCyMasIgEi5LLsS5uCdt25JAUqqeTjAm/9tC6IJb4F7JJDff06RK04XbZCcFLY11pMCMc32rraVnpIGWWi1WOo+zvc7nHr3AQPwFam6o07GCUWeZtpTjf6esKP3D7p1BdbajtMx9mX9Nwrwb4K1/W1uoHmMgDTMnlWOZYx88L0om3wtXzH3PemsqqgoHTFXfomar3IWnFVpKm976yEjYBYBpzC7benO7my6ZCqk72vLhYwsFTDt5Ks7NqbwkhFdW0eG0kudNxx/kmVy/201X4sIrIWIdr5mM3X/ueSz2ZmIKtrOpZ1v3Hasoqe1uBq9n3r06eW2nHVVABFUc4fWkyMfOyWPyCDboaKCvWkJDRZMnYzS+WOQgzTNqbfo93Zg6rCgYU0vPCx7y7ruvGqLuvUyQYlFyOYSmLXia+p3spJMaBK8ZfqTZMJZf3LOElJ67IgUujmOuMuvmq9Ub/CreleB07J+xm7Tw72atvPY3n6tnjFG/THfx9xbzwsu+JO/1MJcHpJKHnVXfT2X5fBN2VeWz/dgkbFtpxrdiKq3d5ZwOHCtfpWh9lmT9yEGYAGEQkOv0/6tEbSouSyzHtXuq6sehe6hQZfY+EhMX9fbhCVqtlNGIRGWdiiXZGYQW8X9TSejbY8TxobEQkP0uoAealM7Q0aUobEZHxQMmliIiIiASMJlEXERERkYBRcikiIiIiAaPkUkREREQCRsmliIiIiASMkksRERERCRgllyIiIiISMEouRURERCRglFyKiIiISMAouRQRERGRgFFyKSIiIiIBo+RSRERERAJGyaWIiIiIBIySSxEREREJGCWXIiIiIhIw3wp2ADI8y7wcMp12nvuOFQDzL+c4Xfsrqk6eC3JkD4hwJ65sFylPTcMA8LZR929H7uL42pi7MoeE0K9ord1NjWcEYx3XbERkZOKa6aWxqJTG25aNJWnFUtyOKKz4rvm690upPtUxOqHKICEL17EixU6kFcCk65MaDlaU037xDjcQ7iYjew6h189Svaec9hGMVYYTS9KKdJKsbeP8XNxNnSKj6ZGQsLi/D1fIarWMRiwyULiT7C0/JSOuJ6m8bgJgTDIAk86GUl4rKKc7iCGOd/ErS9iw0E6Yce/HNz6/grfSojDw0rjvH9hybMTDHlciMnaQmxpLZLiNEAOgjarkTA4N+Q4Hy4/swD3DANPEvNF7Try0nCjk9bcbRit0AQh3s+rNlbhmWOGGiWkCEwwMA/Ceo7Iom7JhT4mD5e/swB1pgNfDzvl51I185DJA0uoSMu0ziAyfimUC4/Zc3H2dIqNN3eJjmdVG9HSDzqZyNr7yIgvSfsCCtB+Qvr2cZq9BmCOHzYuDHeQ49lIBuQvthF5rYP9a983jm5ZTSuM1gzDHUvIX3X4TlowSNqdF0X3NOzoxj0ORc2KJD5uG5YYvURxOyq6tuGcYXG0qJcvZ95xYiV+4jjWOkY9ZbklduxLXDGh5v4iseb7zscDpZmNtG6Y1loUrC4i47RZspO7ZijvS5Ko+JkE165k5RE+fzKOmGexQ7svd1iky+pRcjmVnj1Kcl8nStSU09+l66j5Vwj5PB2Dw+Ex70MIb935XRH5xIRsXraO6qU9369mjbHnvDCZWYl5wD/3+8Dy2L7MTcs3DwYbLIx/vOHW64FbiXj1sF2oerkQrdDWwZ+1RrvYuPnuULe966MbG9zOXjGzA0k/N+kI2bs/m9V3Vt84HHTQX7aauE4zI2aTe5v2W3B2sSrRy1XOE33aNfLwytLKcnh8HaaU0juNE/+7qFAkGJZdjXPdF/2PMwiZN9K33aoDf/eg+VUuLvxVf/5W/AcaEiUO808HyHenET+igujgPwqaNXJAPk2VziJ4AnR9XDB4/dewDPvWCJfJ55gYjtodWA81+x7p68A7XAOYooHhBLFysZft6iAwdifhEZKxRcjnu2EjIPcha+1S45qG6ItjxPJgsTzzGo0BXl7+benq7+aC1djf7NQQwYCIiQzHw0v5Zz4+mOAcJTgchAJRz4RIwZRrxwQtRbnIRZgWue/nS3+rwLLblu4imjep9hf5/xInIA0l3i48Tru0VpD41jYhQK8YEk87ztby5rZDT6hIYAS5yk2MxzHP89vDgluH4/N2+br6mEvKLlVkGUsyUx3z/uAGwhLf25pAwCTqTi1haUE3rX7zAZEKdQG3w4hSw5KaTFAqdDb+hetBaB8t35JA0xUvjgXUc0sdE5KGilstxIvQ7NiKmGDABmGAweYqNGLst2GE9gGyk7llNSqhJ66lSKgcm744CcudFwYVqtq/Vnfoja7LvjmRg8uSpfZZPxDolKAFJr57ubuOah8p9g1PL+Pw8XJHQerKQLZWaPkrkYaOWy3GiLOcHlPX8OyRtHfkr0slYW0b0pGxV3gFjI6HA1yrZfbac4oGtkr3dfKaHvZuK1M034ko4WDYN1zPf0Hj4KIBvHlK+olMtYcETt6Snu/sKde/mUTPgB1jvDAp/U8u+yENLyeU4dPXkbjZeeoxf7nKS9OM8Iio3jeNJcMcKX2K5zelrldycUzL4mP7ERdIUADtrfvUBa/xsJSn3A07mQuvJF3mteMSDfuDUdV5mA1GEPul73fJO37F6NqK/Y4UbHXRpOEhwxC1h287e7u5X2elnTtfMH9l9Y2QT8zhen+dnI3Y21H/ABs1NKPLAUnI5XnnO0ul1EmG1EgNKLu+LjblvlLAh2QYXatkyVKvkr0vY2GT1u4X4H/+U7FnQXPm/qfgjeL8Y0YAfXE0ddKZFEfbkEuBo/3XhmcSEAZc6OB2M2B52jjzeys8iYYqXxsO5Q/aYVB0opNHvxySOzNVZJHCGsreP0YKXCyMasIgEi5LLMcySsZvNTzew/Y2qQWP7LBkvMssKXOzifDCCe2DE4trzc1YlTqX7/HE2L989dHf32Qaaz/pfFZr2UwDMK7U060aTe1dbT8tKBymzXKxyHO13J378CgfxE6C1qUo/pkaZZd5WivOdvq7wA6+y8zZDca421PaZD7OvabhXA/yVL2traR6ZUEVkDFByOWY9S/r/spMQ4+D4e+nU/a6e0x9/jhcb8fNSSbdHYcFLY3WpvmjvmYPsQ1vJiLHCtXN89MfHSCnYSsqAUl82FVJ1MigBjnsRGetwzXzs5mvfc6knE1OwlVU9y7r/WE1ZZe9d+dXs+1cnz6204yqogIojnL40mZh5WSx+wQZdDZQVa27X0WTJ2M0vljkIM0zam36Pd2YOqwoGFNLzwse8pBVbSZre+8pK2ASAacwt2Hpzaq/xUNfdfZ0iwaDkcsw6Q9nyTM4X7GD5S7GkzF9Cyvw+q6+1UV1WyP4Tupnnni3KxBXT0383JZYUZ6zfYq03xn6FO1bFvPCy74k7/UwlwekkoedVd9PZfl8E3ZV5bP+275nvrhVbcfUu72zgUOG6wZOry4jK/JGDMAPAICLR6f9Rj95QWpRcjmkJLzlxRQ5cGsVcZ9TNV+OhrruXOkVG3yMhYXF/H66Q1WoZjVjkNiyJycRM990ra146Q0uTkkp50NmISH6WUEPXvIjIeKLkUkREREQCRpOoi4iIiEjAKLkUERERkYBRcikiIiIiAaPkUkREREQCRsmliIiIiASMkksRERERCRgllyIiIiISMEouRURERCRglFyKiIiISMAouRQRERGRgFFyKSIiIiIBo+RSRERERAJGyaWIiPz/7dshDoRAEEVBJuH+92VDMgiybsWIh1hSpVt8+UwDZMQlAAAZcQkAQEZcAgCQEZcAAGTEJQAAGXEJAEBGXAIAkBGXAABkxCUAABlxCQBARlwCAJARlwAALMMiYgAAAHhJREFUZMQlAAAZcQkAQEZcAgCQEZcAAGTEJQAAGXEJAEBGXAIAkBGXAABkluJyzvn0DgAAXmApLs/zfHoHAAAvsK8cHcfnPt73bYzx6CAAAP7XUlxu2x2Y38gEAIBfPPQAAJARlwAAZMQlAAAZcQkAQEZcAgCQuQCD4SDwporQ+gAAAABJRU5ErkJggg==)\n",
        "\n",
        "Given the scores for a season, determine the number of times Maria breaks her records for most and least points scored during the season.\n",
        "\n",
        "**Function Description :**\n",
        "\n",
        "Complete the breakingRecords function in the editor below.\n",
        "\n",
        "breakingRecords has the following parameter(s):\n",
        "\n",
        "int scores[n] :  points scored per game\n",
        "\n",
        "**Returns :**\n",
        "\n",
        "int[2] :  An array with the numbers of times she broke her records. \n",
        "\n",
        "Index 0  is for breaking most points records,\n",
        " and \n",
        "Index 1  is for breaking least points records."
      ],
      "metadata": {
        "id": "3gHiKMmpZVbI"
      }
    },
    {
      "cell_type": "markdown",
      "source": [
        "**Solution :** "
      ],
      "metadata": {
        "id": "PrwGUF1BZXb_"
      }
    },
    {
      "cell_type": "code",
      "source": [
        "# Complete the Function :\n",
        "\n",
        "def breakingRecords(scores):\n",
        "    # Write your code here\n",
        "    record = [0,0]\n",
        "    least = scores[0]\n",
        "    top = scores[0]\n",
        "    for i in range(len(scores)):\n",
        "        if(i == 0):\n",
        "            continue\n",
        "        if(scores[i] > top):\n",
        "            record[0] += 1\n",
        "            top = scores[i]\n",
        "        elif(scores[i] < least):\n",
        "            record[1] += 1\n",
        "            least = scores[i]\n",
        "    return record\n",
        "\n",
        "# Time Complexity = O(n)"
      ],
      "metadata": {
        "id": "aMZPxpiJbGVf"
      },
      "execution_count": null,
      "outputs": []
    },
    {
      "cell_type": "code",
      "source": [
        "# Custom Test Cases Output :\n",
        "\n",
        "# Input :\n",
        "\n",
        "scores = [12,24,10,24]\n",
        "\n",
        "# Output :\n",
        "\n",
        "breakingRecords(scores)"
      ],
      "metadata": {
        "colab": {
          "base_uri": "https://localhost:8080/"
        },
        "id": "Cu-wcfZbbLtn",
        "outputId": "32d9a5c2-1de7-4a66-b6ec-8886fa46a8f6"
      },
      "execution_count": null,
      "outputs": [
        {
          "output_type": "execute_result",
          "data": {
            "text/plain": [
              "[1, 1]"
            ]
          },
          "metadata": {},
          "execution_count": 25
        }
      ]
    },
    {
      "cell_type": "markdown",
      "source": [
        "**<h2> Q5. Divisible Sum Pairs**"
      ],
      "metadata": {
        "id": "lt5qzmPdbrob"
      }
    },
    {
      "cell_type": "markdown",
      "source": [
        "**Problem :** \n",
        "\n",
        "**Given an array of integers and a positive integer k, determine the number of (i,j) pairs where i < j  and arr[i] + arr[j]  is divisible by k .**\n",
        "\n",
        "**[Example] :**\n",
        "\n",
        "arr = [1,2,3,4,5,6]\n",
        "\n",
        "k = 5\n",
        "\n",
        "Three pairs meet the criteria: [1,4], [2,3] and [4,6].\n",
        "\n",
        "**Function Description :**\n",
        "\n",
        "Complete the divisibleSumPairs function in the editor below.\n",
        "\n",
        "divisibleSumPairs has the following parameter(s):\n",
        "\n",
        "\n",
        "*int n: the length of array* \n",
        "\n",
        "*int ar[n]: an array of integers*\n",
        "\n",
        "*int k: the integer divisor*\n",
        "\n",
        "**Returns :**\n",
        "\n",
        "*- int: the number of pairs*\n",
        "\n"
      ],
      "metadata": {
        "id": "9yITk06hcva7"
      }
    },
    {
      "cell_type": "markdown",
      "source": [
        "![image.png](data:image/png;base64,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)"
      ],
      "metadata": {
        "id": "zFYMCxrHecZv"
      }
    },
    {
      "cell_type": "markdown",
      "source": [
        "**Solution :** "
      ],
      "metadata": {
        "id": "Ja3buVmXZa6F"
      }
    },
    {
      "cell_type": "code",
      "source": [
        "# Complete the Function :\n",
        "\n",
        "def divisibleSumPairs(n, k, ar):\n",
        "    # Write your code here\n",
        "    count = 0\n",
        "    for i in range(n):\n",
        "        for j in range(i+1,n):\n",
        "            sum = ar[i]+ar[j]\n",
        "            if(sum%k == 0):\n",
        "                count += 1\n",
        "    return count\n",
        "\n",
        "# Time Complexity = O(n^2)"
      ],
      "metadata": {
        "id": "PRlKp75-eC3L"
      },
      "execution_count": null,
      "outputs": []
    },
    {
      "cell_type": "code",
      "source": [
        "# Custom Test Cases Output :\n",
        "\n",
        "# Input :\n",
        "\n",
        "arr = [1, 3, 2, 6, 1, 2]\n",
        "n = 6\n",
        "k = 3\n",
        "\n",
        "# Output :\n",
        "\n",
        "divisibleSumPairs(n, k, arr)"
      ],
      "metadata": {
        "colab": {
          "base_uri": "https://localhost:8080/"
        },
        "id": "bRRPXiOHeyyP",
        "outputId": "3de855fb-583d-446a-e838-9d9e1919df7c"
      },
      "execution_count": null,
      "outputs": [
        {
          "output_type": "execute_result",
          "data": {
            "text/plain": [
              "5"
            ]
          },
          "metadata": {},
          "execution_count": 27
        }
      ]
    },
    {
      "cell_type": "markdown",
      "source": [
        "**<h2> Q5. Sparse Array**"
      ],
      "metadata": {
        "id": "tDofoTTohuh0"
      }
    },
    {
      "cell_type": "markdown",
      "source": [
        "**Problem :**\n",
        "\n",
        "**There is a collection of input strings and a collection of query strings. For each query string, determine how many times it occurs in the list of input strings. Return an array of the results.**\n",
        "\n",
        "**[Example] :**\n",
        "\n",
        "strings = ['ab','ab','abc']\n",
        "\n",
        "queries = ['ab','abc','bc']\n",
        "\n",
        "There are 2 instances of 'ab', 1 of 'abc' and 0 of 'bc'. For each query, add an element to the return array, results = [2,1,0] .\n",
        "\n",
        "**Function Description :**\n",
        "\n",
        "Complete the function matchingStrings in the editor below. The function must return an array of integers representing the frequency of occurrence of each query string in strings.\n",
        "\n",
        "matchingStrings has the following parameters:\n",
        "\n",
        "*string strings[n] - an array of strings to search*\n",
        "\n",
        "*string queries[q] - an array of query strings*\n",
        "\n",
        "**Returns**\n",
        "\n",
        "*int[q]: an array of results for each query*"
      ],
      "metadata": {
        "id": "6lNQdUTiiAdX"
      }
    },
    {
      "cell_type": "markdown",
      "source": [
        "**Solution :** "
      ],
      "metadata": {
        "id": "qWxZoaIlZchY"
      }
    },
    {
      "cell_type": "code",
      "source": [
        "# Complete the Function :\n",
        "\n",
        "def matchingStrings(strings, queries):\n",
        "    # Write your code here\n",
        "    no_of_strings = len(strings)\n",
        "    no_of_queries = len(queries)\n",
        "    result = []\n",
        "    for i in range(no_of_queries):\n",
        "        result.append(0)\n",
        "    for x in range(no_of_queries):\n",
        "        for y in strings:\n",
        "            if(queries[x] == y):\n",
        "                result[x] += 1\n",
        "    return result\n",
        "\n",
        "# Time Complexity = O(n^2)\n",
        "    "
      ],
      "metadata": {
        "id": "f7Pf9vLRkCEz"
      },
      "execution_count": null,
      "outputs": []
    },
    {
      "cell_type": "code",
      "source": [
        "# Custom Test Cases Output :\n",
        "\n",
        "# Input :\n",
        "\n",
        "strings = ['ab','ab','abc']\n",
        "\n",
        "queries = ['ab','abc','bc']\n",
        "\n",
        "# Output :\n",
        "\n",
        "matchingStrings(strings, queries)\n"
      ],
      "metadata": {
        "colab": {
          "base_uri": "https://localhost:8080/"
        },
        "id": "cKzC3zsCkQ6k",
        "outputId": "74dc65c1-b699-4fbf-beed-4fcafa43e589"
      },
      "execution_count": null,
      "outputs": [
        {
          "output_type": "execute_result",
          "data": {
            "text/plain": [
              "[2, 1, 0]"
            ]
          },
          "metadata": {},
          "execution_count": 29
        }
      ]
    }
  ]
}